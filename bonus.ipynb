{
 "cells": [
  {
   "cell_type": "code",
   "execution_count": 28,
   "id": "91678e58-4fe6-4b89-bc2d-8a80daa0df6c",
   "metadata": {},
   "outputs": [],
   "source": [
    "import mysql.connector\n",
    "import pandas as pd\n",
    "from mysql.connector import Error\n",
    "\n",
    "# Database Configuration\n",
    "DB_CONFIG = {\n",
    "    \"host\": \"localhost\",\n",
    "    \"user\": \"root\",\n",
    "    \"password\": \"\",\n",
    "    \"database\": \"university\"\n",
    "}\n",
    "\n"
   ]
  },
  {
   "cell_type": "code",
   "execution_count": null,
   "id": "f3799e4a-d77b-4d24-ae3a-8307ba76092e",
   "metadata": {},
   "outputs": [],
   "source": []
  },
  {
   "cell_type": "markdown",
   "id": "e7a26a60-a2c0-4db8-8fd6-557c0ecacfd6",
   "metadata": {},
   "source": [
    "# ძირითადი ფუნქციები"
   ]
  },
  {
   "cell_type": "code",
   "execution_count": 93,
   "id": "299db255-709e-4f22-a0ad-9a7a6a1f7bdd",
   "metadata": {},
   "outputs": [],
   "source": [
    "class CustomORM:\n",
    "    def __init__(self, config):\n",
    "        self.connection = self.connect_to_database(config)\n",
    "        self.cursor = self.connection.cursor(dictionary=True)\n",
    "\n",
    "    \n",
    "    def connect_to_database(self, config):\n",
    "        \"\"\"Connect to the database.\"\"\"\n",
    "        try:\n",
    "            connection = mysql.connector.connect(\n",
    "                host=config[\"host\"],\n",
    "                user=config[\"user\"],\n",
    "                password=config[\"password\"],\n",
    "                database=config[\"database\"]\n",
    "            )\n",
    "            if connection.is_connected():\n",
    "                print(f\"Connected to the database: {config['database']}\")\n",
    "            return connection\n",
    "        except Error as e:\n",
    "            print(f\"Error: {e}\")\n",
    "            return None\n",
    "\n",
    "    def create_table(self, table_name, schema):\n",
    "        \"\"\"Create a table with the given schema.\"\"\"\n",
    "        try:\n",
    "            self.cursor.execute(f\"CREATE TABLE IF NOT EXISTS {table_name} ({schema})\")\n",
    "            self.connection.commit()\n",
    "            print(f\"Table {table_name} created successfully.\")\n",
    "        except Error as e:\n",
    "            print(f\"Error: {e}\")\n",
    "\n",
    "    def insert_data(self, table_name, columns, values):\n",
    "        \"\"\"Insert single or multiple rows of data into the table.\"\"\"\n",
    "        try:\n",
    "            query = f\"INSERT INTO {table_name} ({', '.join(columns)}) VALUES ({', '.join(['%s'] * len(values[0]))})\"\n",
    "            self.cursor.executemany(query, values)\n",
    "            self.connection.commit()\n",
    "            print(f\"Data inserted into {table_name}.\")\n",
    "        except Error as e:\n",
    "            print(f\"Error: {e}\")\n",
    "\n",
    "    def select_data(self, table_name, columns=\"*\", where=None, limit=None, order_by=None, like=None, in_operator=None):\n",
    "        \"\"\"Perform SELECT query with optional filtering, ordering, limiting, LIKE and IN.\"\"\"\n",
    "        query = f\"SELECT {columns} FROM {table_name}\"\n",
    "        \n",
    "       \n",
    "        if where:\n",
    "            query += f\" WHERE {where}\"\n",
    "\n",
    "      \n",
    "        if like:\n",
    "            query += f\" WHERE {like}\"\n",
    "\n",
    "      \n",
    "        if in_operator:\n",
    "            query += f\" WHERE {in_operator}\"\n",
    "\n",
    "      \n",
    "        if order_by:\n",
    "            query += f\" ORDER BY {order_by}\"\n",
    "\n",
    "      \n",
    "        if limit:\n",
    "            query += f\" LIMIT {limit}\"\n",
    "\n",
    "        try:\n",
    "            self.cursor.execute(query)\n",
    "            results = self.cursor.fetchall()\n",
    "            return results\n",
    "        except Error as e:\n",
    "            print(f\"Error: {e}\")\n",
    "            return []\n",
    "\n",
    "    def print_table(self, table_name):\n",
    "        \"\"\"Fetch and print the entire table as a DataFrame.\"\"\"\n",
    "        query = f\"SELECT * FROM {table_name}\"\n",
    "        try:\n",
    "            self.cursor.execute(query)\n",
    "            data = self.cursor.fetchall()\n",
    "            df = pd.DataFrame(data)\n",
    "            print(f\"\\nTable '{table_name}':\")\n",
    "            print(df)\n",
    "        except Error as e:\n",
    "            print(f\"Error: {e}\")\n",
    "            \n",
    "    def add_column(self, table_name, column_definition):\n",
    "        \"\"\"Add a column to a table.\"\"\"\n",
    "        try:\n",
    "            self.cursor.execute(f\"ALTER TABLE {table_name} ADD COLUMN {column_definition}\")\n",
    "            self.connection.commit()\n",
    "            print(f\"Column added to {table_name}.\")\n",
    "        except Error as e:\n",
    "            print(f\"Error: {e}\")\n",
    "\n",
    "    def remove_column(self, table_name, column_name):\n",
    "        \"\"\"Remove a column from a table.\"\"\"\n",
    "        try:\n",
    "            self.cursor.execute(f\"ALTER TABLE {table_name} DROP COLUMN {column_name}\")\n",
    "            self.connection.commit()\n",
    "            print(f\"Column {column_name} removed from {table_name}.\")\n",
    "        except Error as e:\n",
    "            print(f\"Error: {e}\")\n",
    "\n",
    "    def update_column_type(self, table_name, column_name, new_type):\n",
    "        \"\"\"Change the data type of a column.\"\"\"\n",
    "        try:\n",
    "            self.cursor.execute(f\"ALTER TABLE {table_name} MODIFY COLUMN {column_name} {new_type}\")\n",
    "            self.connection.commit()\n",
    "            print(f\"Column {column_name} type changed to {new_type}.\")\n",
    "        except Error as e:\n",
    "            print(f\"Error: {e}\")\n",
    "\n",
    "    def close_connection(self):\n",
    "        \"\"\"Close the database connection.\"\"\"\n",
    "        if self.connection.is_connected():\n",
    "            self.cursor.close()\n",
    "            self.connection.close()\n",
    "            print(\"Connection closed.\")\n",
    "\n"
   ]
  },
  {
   "cell_type": "markdown",
   "id": "2f9b1d4c-088c-400a-9604-4d65f54ccda1",
   "metadata": {},
   "source": [
    "# მონაცემებზე მოქმედებები\n"
   ]
  },
  {
   "cell_type": "code",
   "execution_count": 100,
   "id": "11d230dc-d98b-4abf-b599-309cd17da55d",
   "metadata": {},
   "outputs": [
    {
     "name": "stdout",
     "output_type": "stream",
     "text": [
      "Connected to the database: university\n"
     ]
    }
   ],
   "source": [
    "\n",
    "db = CustomORM(config=DB_CONFIG)\n"
   ]
  },
  {
   "cell_type": "code",
   "execution_count": 54,
   "id": "922dbffe-d322-4bad-b70d-659d72b01f45",
   "metadata": {},
   "outputs": [
    {
     "name": "stdout",
     "output_type": "stream",
     "text": [
      "Table students created successfully.\n"
     ]
    }
   ],
   "source": [
    "\n",
    "\n",
    "\n",
    "# Create a table\n",
    "students_schema = \"\"\"\n",
    "    student_id INT AUTO_INCREMENT PRIMARY KEY,\n",
    "    first_name VARCHAR(50) NOT NULL,\n",
    "    last_name VARCHAR(50) NOT NULL,\n",
    "    email VARCHAR(100) UNIQUE NOT NULL,\n",
    "    date_of_birth DATE,\n",
    "    enrollment_date TIMESTAMP DEFAULT CURRENT_TIMESTAMP,\n",
    "    major VARCHAR(100)\n",
    "\"\"\"\n",
    "db.create_table(\"students\", students_schema)\n",
    "\n"
   ]
  },
  {
   "cell_type": "markdown",
   "id": "1685a32d-245d-4b61-a1fb-8815279f07a5",
   "metadata": {},
   "source": [
    "# სტუდენტიების ცხრილის ჩვენება"
   ]
  },
  {
   "cell_type": "code",
   "execution_count": 120,
   "id": "dc9f3484-d43e-4fb9-8d6d-f6ebdd185c58",
   "metadata": {},
   "outputs": [
    {
     "name": "stdout",
     "output_type": "stream",
     "text": [
      "\n",
      "Table 'students':\n",
      "    student_id first_name   last_name                          email  \\\n",
      "0            1        ანა        ბანა            anabana@example.com   \n",
      "1            3       მაკა      წაქაძე       makatsakadze@example.com   \n",
      "2            4     გიორგი   ბურჯანაძე      michael.brown@example.com   \n",
      "3            5     სალომე    გიორგიძე   salome.giorgidze@example.com   \n",
      "4            6     დავითი      ლაბაძე      davit.labadze@example.com   \n",
      "5            7     ანდრია   ბანძელაძე          andriaban@example.com   \n",
      "6            8       ბეკა     კიკნაძე       beqakiknadze@example.com   \n",
      "7            9    მარიამი      წაქაძე    mariamitsakadze@example.com   \n",
      "8           10       ნინო   ბურჯანაძე   elene.burjanadzr@example.com   \n",
      "9           11      ელენე    გიორგიძე    elene.giorgidze@example.com   \n",
      "10          12       ლინა   ვარდანიძე     linavardanidze@example.com   \n",
      "11          13        ინა    გიორგიძე      ina.giorgidze@example.com   \n",
      "12          31       ნიკო  დევდარიანი    niko.devdariani@example.com   \n",
      "13          35     გიორგი  დევდარიანი  გიორგი.devdariani@example.com   \n",
      "\n",
      "   date_of_birth     enrollment_date             major  \n",
      "0     1999-01-01 2025-02-06 23:25:42       Mathematics  \n",
      "1     1997-07-20 2025-02-06 23:25:42           Physics  \n",
      "2     2003-11-30 2025-02-06 23:25:42  Computer Science  \n",
      "3     2000-03-10 2025-02-06 23:25:42       Mathematics  \n",
      "4     1996-02-25 2025-02-06 23:25:42           Physics  \n",
      "5     2001-04-17 2025-02-06 23:25:42  Computer Science  \n",
      "6     2004-08-22 2025-02-06 23:25:42       Mathematics  \n",
      "7     2001-12-12 2025-02-06 23:25:42           Physics  \n",
      "8     2002-06-30 2025-02-06 23:25:42  Computer Science  \n",
      "9     2004-09-18 2025-02-06 23:25:42       Mathematics  \n",
      "10    1999-01-01                 NaT  Computer Science  \n",
      "11    2004-09-18                 NaT       Mathematics  \n",
      "12    2002-11-11 2025-02-07 10:44:52           Physics  \n",
      "13    2003-11-11 2025-02-07 10:53:43           Physics  \n"
     ]
    }
   ],
   "source": [
    "\n",
    "db.print_table(\"students\")"
   ]
  },
  {
   "cell_type": "markdown",
   "id": "c3972b0c-961c-46a5-ab1e-43e2cc4ea732",
   "metadata": {},
   "source": [
    "# მონაცემის შეყვანა ცხრილში"
   ]
  },
  {
   "cell_type": "code",
   "execution_count": 58,
   "id": "c2c4a730-9f3c-4c8c-bee6-f036bec0ef4b",
   "metadata": {},
   "outputs": [
    {
     "name": "stdout",
     "output_type": "stream",
     "text": [
      "Data inserted into students.\n"
     ]
    }
   ],
   "source": [
    "# Insert data into students (single or multiple rows)\n",
    "students_data = [\n",
    "    ('გიორგი', 'დევდარიანი', 'გიორგი.devdariani@example.com', '2003-11-11', 'Physics')\n",
    "]\n",
    "db.insert_data(\"students\", [\"first_name\", \"last_name\", \"email\", \"date_of_birth\", \"major\"], students_data)\n",
    "\n"
   ]
  },
  {
   "cell_type": "markdown",
   "id": "a6e81576-8bad-4986-9611-8969518325aa",
   "metadata": {},
   "source": [
    "# ცხრილიდან 5 სტუდენტის სახელის და გვარის გამოტანა"
   ]
  },
  {
   "cell_type": "code",
   "execution_count": 60,
   "id": "5140acf6-c5ab-4ddd-ab2d-cf35b669e519",
   "metadata": {},
   "outputs": [
    {
     "name": "stdout",
     "output_type": "stream",
     "text": [
      "  first_name   last_name\n",
      "0        ანა        ბანა\n",
      "1     ანდრია   ბანძელაძე\n",
      "2       ბეკა     კიკნაძე\n",
      "3     გიორგი   ბურჯანაძე\n",
      "4     გიორგი  დევდარიანი\n"
     ]
    }
   ],
   "source": [
    "# SELECT query with LIMIT and ORDER BY clauses\n",
    "students = db.select_data(\"students\", columns=\"first_name, last_name\", order_by=\"first_name\", limit=5)\n",
    "print(pd.DataFrame(students))\n",
    "\n"
   ]
  },
  {
   "cell_type": "markdown",
   "id": "28ddf222-076b-418e-a8af-5ae543112cab",
   "metadata": {},
   "source": [
    "# ცხრილიდან 4 სტუდენტის სახელის, გვარის და ემაილის გამოტანა გამოტანა\n"
   ]
  },
  {
   "cell_type": "code",
   "execution_count": 68,
   "id": "c9b46066-0c74-45fe-936d-e03eafc46eba",
   "metadata": {},
   "outputs": [
    {
     "name": "stdout",
     "output_type": "stream",
     "text": [
      "  first_name  last_name                      email\n",
      "0        ანა       ბანა        anabana@example.com\n",
      "1     ანდრია  ბანძელაძე      andriaban@example.com\n",
      "2       ბეკა    კიკნაძე   beqakiknadze@example.com\n",
      "3     გიორგი  ბურჯანაძე  michael.brown@example.com\n"
     ]
    }
   ],
   "source": [
    "# SELECT query with LIMIT and ORDER BY clauses\n",
    "students = db.select_data(\"students\", columns=\"first_name, last_name, email\", order_by=\"first_name\", limit=4)\n",
    "print(pd.DataFrame(students))\n"
   ]
  },
  {
   "cell_type": "code",
   "execution_count": null,
   "id": "fa77adb5-76ef-49cb-a284-87eea5084743",
   "metadata": {},
   "outputs": [],
   "source": [
    "\n"
   ]
  },
  {
   "cell_type": "markdown",
   "id": "da671059-3d54-4bc9-8329-acf9dcc1c55a",
   "metadata": {},
   "source": [
    "# გამოიტანს მონაცემებს, რომელთა ემაილში სიტყვათაშეთანხმება 'an' არის"
   ]
  },
  {
   "cell_type": "code",
   "execution_count": 76,
   "id": "69714133-8dd7-430c-a036-0aa5d8afe55e",
   "metadata": {},
   "outputs": [
    {
     "name": "stdout",
     "output_type": "stream",
     "text": [
      "  first_name   last_name                          email\n",
      "0        ანა        ბანა            anabana@example.com\n",
      "1     ანდრია   ბანძელაძე          andriaban@example.com\n",
      "2       ნინო   ბურჯანაძე   elene.burjanadzr@example.com\n",
      "3       ლინა   ვარდანიძე     linavardanidze@example.com\n",
      "4       ნიკო  დევდარიანი    niko.devdariani@example.com\n",
      "5     გიორგი  დევდარიანი  გიორგი.devdariani@example.com\n"
     ]
    }
   ],
   "source": [
    "\n",
    "students_like = db.select_data(\"students\", columns=\"first_name, last_name, email\", like=\"email LIKE '%an%'\")\n",
    "print(pd.DataFrame(students_like))\n",
    "\n"
   ]
  },
  {
   "cell_type": "markdown",
   "id": "8816744f-0960-459a-a68b-11d59e8c6c09",
   "metadata": {},
   "source": [
    "# ფილტრავს მონაცემებს ისე, რომ აირჩიოს მხოლოდ ის სტუდენტები, რომელთა major არის ან 'Mathematics', ან 'Physics' და გამოაქვს მათი სახელი და გვარი"
   ]
  },
  {
   "cell_type": "code",
   "execution_count": 40,
   "id": "404bd44f-9ff5-4700-b507-b89682730dcd",
   "metadata": {},
   "outputs": [
    {
     "name": "stdout",
     "output_type": "stream",
     "text": [
      "  first_name   last_name        major\n",
      "0        ანა        ბანა  Mathematics\n",
      "1       მაკა      წაქაძე      Physics\n",
      "2     სალომე    გიორგიძე  Mathematics\n",
      "3     დავითი      ლაბაძე      Physics\n",
      "4       ბეკა     კიკნაძე  Mathematics\n",
      "5    მარიამი      წაქაძე      Physics\n",
      "6      ელენე    გიორგიძე  Mathematics\n",
      "7        ინა    გიორგიძე  Mathematics\n",
      "8       ნიკო  დევდარიანი      Physics\n"
     ]
    }
   ],
   "source": [
    "# Using IN operator to filter by major\n",
    "students_in = db.select_data(\"students\", columns=\"first_name, last_name, major\", in_operator=\"major IN ('Mathematics', 'Physics')\")\n",
    "print(pd.DataFrame(students_in))\n",
    "\n"
   ]
  },
  {
   "cell_type": "markdown",
   "id": "4a140a56-58b6-4e97-8037-6616efe754b2",
   "metadata": {},
   "source": [
    "# სტუდენტების მონაცემების გამოტანა გვარის მიხედვით"
   ]
  },
  {
   "cell_type": "code",
   "execution_count": 102,
   "id": "d5c17601-acd4-42d2-96ca-e9ec43f5ba8f",
   "metadata": {},
   "outputs": [
    {
     "name": "stdout",
     "output_type": "stream",
     "text": [
      "     last_name             major\n",
      "0         ბანა       Mathematics\n",
      "1    ბანძელაძე  Computer Science\n",
      "2    ბურჯანაძე  Computer Science\n",
      "3    ბურჯანაძე  Computer Science\n",
      "4     გიორგიძე       Mathematics\n",
      "5     გიორგიძე       Mathematics\n",
      "6     გიორგიძე       Mathematics\n",
      "7   დევდარიანი           Physics\n",
      "8   დევდარიანი           Physics\n",
      "9    ვარდანიძე  Computer Science\n",
      "10     კიკნაძე       Mathematics\n",
      "11      ლაბაძე           Physics\n",
      "12      წაქაძე           Physics\n",
      "13      წაქაძე           Physics\n"
     ]
    }
   ],
   "source": [
    "\n",
    "students = db.select_data(\"students\", columns=\"last_name, major\", order_by=\"last_name ASC\")\n",
    "print(pd.DataFrame(students))\n"
   ]
  },
  {
   "cell_type": "markdown",
   "id": "50595e20-cabd-4397-9ce0-9b3f837c8e6d",
   "metadata": {},
   "source": [
    "# ახალი სვეტის დამატება ტელეფონის ნომრის ბაზისთვის"
   ]
  },
  {
   "cell_type": "code",
   "execution_count": 111,
   "id": "38fefe32-28fe-4b0e-8b2f-acb5dea906f5",
   "metadata": {},
   "outputs": [
    {
     "name": "stdout",
     "output_type": "stream",
     "text": [
      "Column added to students.\n",
      "\n",
      "Table 'students':\n",
      "    student_id first_name   last_name                          email  \\\n",
      "0            1        ანა        ბანა            anabana@example.com   \n",
      "1            3       მაკა      წაქაძე       makatsakadze@example.com   \n",
      "2            4     გიორგი   ბურჯანაძე      michael.brown@example.com   \n",
      "3            5     სალომე    გიორგიძე   salome.giorgidze@example.com   \n",
      "4            6     დავითი      ლაბაძე      davit.labadze@example.com   \n",
      "5            7     ანდრია   ბანძელაძე          andriaban@example.com   \n",
      "6            8       ბეკა     კიკნაძე       beqakiknadze@example.com   \n",
      "7            9    მარიამი      წაქაძე    mariamitsakadze@example.com   \n",
      "8           10       ნინო   ბურჯანაძე   elene.burjanadzr@example.com   \n",
      "9           11      ელენე    გიორგიძე    elene.giorgidze@example.com   \n",
      "10          12       ლინა   ვარდანიძე     linavardanidze@example.com   \n",
      "11          13        ინა    გიორგიძე      ina.giorgidze@example.com   \n",
      "12          31       ნიკო  დევდარიანი    niko.devdariani@example.com   \n",
      "13          35     გიორგი  დევდარიანი  გიორგი.devdariani@example.com   \n",
      "\n",
      "   date_of_birth     enrollment_date             major phone_number  \n",
      "0     1999-01-01 2025-02-06 23:25:42       Mathematics         None  \n",
      "1     1997-07-20 2025-02-06 23:25:42           Physics         None  \n",
      "2     2003-11-30 2025-02-06 23:25:42  Computer Science         None  \n",
      "3     2000-03-10 2025-02-06 23:25:42       Mathematics         None  \n",
      "4     1996-02-25 2025-02-06 23:25:42           Physics         None  \n",
      "5     2001-04-17 2025-02-06 23:25:42  Computer Science         None  \n",
      "6     2004-08-22 2025-02-06 23:25:42       Mathematics         None  \n",
      "7     2001-12-12 2025-02-06 23:25:42           Physics         None  \n",
      "8     2002-06-30 2025-02-06 23:25:42  Computer Science         None  \n",
      "9     2004-09-18 2025-02-06 23:25:42       Mathematics         None  \n",
      "10    1999-01-01                 NaT  Computer Science         None  \n",
      "11    2004-09-18                 NaT       Mathematics         None  \n",
      "12    2002-11-11 2025-02-07 10:44:52           Physics         None  \n",
      "13    2003-11-11 2025-02-07 10:53:43           Physics         None  \n"
     ]
    }
   ],
   "source": [
    "\n",
    "db.add_column(\"students\", \"phone_number VARCHAR(20)\")\n",
    "\n",
    "db.print_table(\"students\")"
   ]
  },
  {
   "cell_type": "markdown",
   "id": "ba3d3e18-e65f-43c2-b915-3145585482c6",
   "metadata": {},
   "source": [
    "# ტელეფონის ნომრის სვეტის წაშლა"
   ]
  },
  {
   "cell_type": "code",
   "execution_count": 113,
   "id": "89a48600-8f76-4e55-b637-a2cae8e8d076",
   "metadata": {},
   "outputs": [
    {
     "name": "stdout",
     "output_type": "stream",
     "text": [
      "Column phone_number removed from students.\n"
     ]
    }
   ],
   "source": [
    "db.remove_column(\"students\", \"phone_number\")\n"
   ]
  },
  {
   "cell_type": "markdown",
   "id": "17e3a046-060e-458e-a02a-ab2e2d366ac2",
   "metadata": {},
   "source": [
    "# სახელის ტიპის შეცვლა"
   ]
  },
  {
   "cell_type": "code",
   "execution_count": 117,
   "id": "e34959a7-0d81-4725-988c-5e356b301823",
   "metadata": {},
   "outputs": [
    {
     "name": "stdout",
     "output_type": "stream",
     "text": [
      "Column first_name type changed to VARCHAR(55).\n"
     ]
    }
   ],
   "source": [
    "\n",
    "db.update_column_type(\"students\", \"first_name\", \"VARCHAR(55)\")"
   ]
  },
  {
   "cell_type": "markdown",
   "id": "ddc343ec-ca30-45b7-b7c3-cea4dcb5a97a",
   "metadata": {},
   "source": [
    "# კავშირის დახურვა"
   ]
  },
  {
   "cell_type": "code",
   "execution_count": 80,
   "id": "224f1eb1-77e0-4bf8-b6e5-a1fa459d654f",
   "metadata": {},
   "outputs": [
    {
     "name": "stdout",
     "output_type": "stream",
     "text": [
      "Connection closed.\n"
     ]
    }
   ],
   "source": [
    "\n",
    "db.close_connection()"
   ]
  }
 ],
 "metadata": {
  "kernelspec": {
   "display_name": "Python [conda env:base] *",
   "language": "python",
   "name": "conda-base-py"
  },
  "language_info": {
   "codemirror_mode": {
    "name": "ipython",
    "version": 3
   },
   "file_extension": ".py",
   "mimetype": "text/x-python",
   "name": "python",
   "nbconvert_exporter": "python",
   "pygments_lexer": "ipython3",
   "version": "3.12.7"
  }
 },
 "nbformat": 4,
 "nbformat_minor": 5
}
